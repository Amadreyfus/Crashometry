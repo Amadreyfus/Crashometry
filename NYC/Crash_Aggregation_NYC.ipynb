{
 "cells": [
  {
   "cell_type": "code",
   "execution_count": 3,
   "metadata": {
    "colab": {},
    "colab_type": "code",
    "id": "VNeIpf2Qa1ca"
   },
   "outputs": [],
   "source": [
    "import pandas as pd\n",
    "import numpy as np\n",
    "pd.set_option('display.max_rows', 500)\n",
    "pd.set_option('display.max_columns', 500)\n",
    "pd.set_option('display.width', 1000)\n",
    "import datetime as dt\n",
    "import warnings\n",
    "warnings.filterwarnings(\"ignore\")"
   ]
  },
  {
   "cell_type": "markdown",
   "metadata": {},
   "source": [
    "#### 2019 + 2020"
   ]
  },
  {
   "cell_type": "code",
   "execution_count": 4,
   "metadata": {},
   "outputs": [],
   "source": [
    "data19 = pd.read_csv(\"NYC_Crash_Data_2019.csv\")\n",
    "data20 = pd.read_csv(\"NYC_Crash_Data_2020.csv\")"
   ]
  },
  {
   "cell_type": "code",
   "execution_count": 5,
   "metadata": {},
   "outputs": [],
   "source": [
    "data = data19.append(data20, sort = False)"
   ]
  },
  {
   "cell_type": "code",
   "execution_count": 6,
   "metadata": {},
   "outputs": [],
   "source": [
    "data['Crash_Fatal_Fl'] = data['NUMBER OF PERSONS KILLED'].apply(lambda x: 1 if x > 0 else 0)\n",
    "dataSub = data[['COLLISION_ID', 'Crash_Fatal_Fl','CRASH DATE', 'NUMBER OF PERSONS KILLED']]\n",
    "dataSub['CRASH DATE'] = pd.to_datetime(dataSub['CRASH DATE'])"
   ]
  },
  {
   "cell_type": "code",
   "execution_count": 7,
   "metadata": {},
   "outputs": [
    {
     "data": {
      "text/html": [
       "<div>\n",
       "<style scoped>\n",
       "    .dataframe tbody tr th:only-of-type {\n",
       "        vertical-align: middle;\n",
       "    }\n",
       "\n",
       "    .dataframe tbody tr th {\n",
       "        vertical-align: top;\n",
       "    }\n",
       "\n",
       "    .dataframe thead th {\n",
       "        text-align: right;\n",
       "    }\n",
       "</style>\n",
       "<table border=\"1\" class=\"dataframe\">\n",
       "  <thead>\n",
       "    <tr style=\"text-align: right;\">\n",
       "      <th></th>\n",
       "      <th>COLLISION_ID</th>\n",
       "      <th>Crash_Fatal_Fl</th>\n",
       "      <th>CRASH DATE</th>\n",
       "      <th>NUMBER OF PERSONS KILLED</th>\n",
       "    </tr>\n",
       "  </thead>\n",
       "  <tbody>\n",
       "    <tr>\n",
       "      <td>0</td>\n",
       "      <td>4070993</td>\n",
       "      <td>0</td>\n",
       "      <td>2019-01-29</td>\n",
       "      <td>0.0</td>\n",
       "    </tr>\n",
       "    <tr>\n",
       "      <td>1</td>\n",
       "      <td>4083608</td>\n",
       "      <td>0</td>\n",
       "      <td>2019-02-18</td>\n",
       "      <td>0.0</td>\n",
       "    </tr>\n",
       "    <tr>\n",
       "      <td>2</td>\n",
       "      <td>4077792</td>\n",
       "      <td>0</td>\n",
       "      <td>2019-02-07</td>\n",
       "      <td>0.0</td>\n",
       "    </tr>\n",
       "    <tr>\n",
       "      <td>3</td>\n",
       "      <td>4084942</td>\n",
       "      <td>0</td>\n",
       "      <td>2019-02-21</td>\n",
       "      <td>0.0</td>\n",
       "    </tr>\n",
       "    <tr>\n",
       "      <td>4</td>\n",
       "      <td>4071210</td>\n",
       "      <td>0</td>\n",
       "      <td>2019-01-29</td>\n",
       "      <td>0.0</td>\n",
       "    </tr>\n",
       "  </tbody>\n",
       "</table>\n",
       "</div>"
      ],
      "text/plain": [
       "   COLLISION_ID  Crash_Fatal_Fl CRASH DATE  NUMBER OF PERSONS KILLED\n",
       "0       4070993               0 2019-01-29                       0.0\n",
       "1       4083608               0 2019-02-18                       0.0\n",
       "2       4077792               0 2019-02-07                       0.0\n",
       "3       4084942               0 2019-02-21                       0.0\n",
       "4       4071210               0 2019-01-29                       0.0"
      ]
     },
     "execution_count": 7,
     "metadata": {},
     "output_type": "execute_result"
    }
   ],
   "source": [
    "dataSub.head()"
   ]
  },
  {
   "cell_type": "code",
   "execution_count": 8,
   "metadata": {},
   "outputs": [],
   "source": [
    "dataSubAgg = dataSub.copy()"
   ]
  },
  {
   "cell_type": "code",
   "execution_count": 9,
   "metadata": {
    "colab": {},
    "colab_type": "code",
    "id": "VBjroLZ5a1cg"
   },
   "outputs": [],
   "source": [
    "dataSubAgg['yearMonth'] = dataSubAgg['CRASH DATE'].dt.strftime('%Y-%m')\n",
    "dataSubAgg['Year'] = dataSubAgg['CRASH DATE'].dt.strftime('%Y')\n",
    "dataSubAgg['Month'] = dataSubAgg['CRASH DATE'].dt.strftime('%m')\n",
    "dataSubAgg = dataSubAgg.drop(['CRASH DATE'], axis = 1)"
   ]
  },
  {
   "cell_type": "code",
   "execution_count": 10,
   "metadata": {
    "colab": {},
    "colab_type": "code",
    "id": "H0Takya8X-Zb"
   },
   "outputs": [],
   "source": [
    "dataSubAgg.rename(columns={\"COLLISION_ID\": \"Crash_ID\", \"NUMBER OF PERSONS KILLED\": \"Death_Cnt\"}, inplace = True)"
   ]
  },
  {
   "cell_type": "code",
   "execution_count": 50,
   "metadata": {},
   "outputs": [],
   "source": [
    "dataSubAgg = dataSubAgg[~((dataSubAgg['Month'] == '06') & (dataSubAgg['Year'] == '2020' ))]"
   ]
  },
  {
   "cell_type": "code",
   "execution_count": 51,
   "metadata": {},
   "outputs": [
    {
     "data": {
      "text/html": [
       "<div>\n",
       "<style scoped>\n",
       "    .dataframe tbody tr th:only-of-type {\n",
       "        vertical-align: middle;\n",
       "    }\n",
       "\n",
       "    .dataframe tbody tr th {\n",
       "        vertical-align: top;\n",
       "    }\n",
       "\n",
       "    .dataframe thead th {\n",
       "        text-align: right;\n",
       "    }\n",
       "</style>\n",
       "<table border=\"1\" class=\"dataframe\">\n",
       "  <thead>\n",
       "    <tr style=\"text-align: right;\">\n",
       "      <th></th>\n",
       "      <th>Crash_ID</th>\n",
       "      <th>Crash_Fatal_Fl</th>\n",
       "      <th>Death_Cnt</th>\n",
       "      <th>yearMonth</th>\n",
       "      <th>Year</th>\n",
       "      <th>Month</th>\n",
       "    </tr>\n",
       "  </thead>\n",
       "  <tbody>\n",
       "    <tr>\n",
       "      <td>0</td>\n",
       "      <td>4070993</td>\n",
       "      <td>0</td>\n",
       "      <td>0.0</td>\n",
       "      <td>2019-01</td>\n",
       "      <td>2019</td>\n",
       "      <td>01</td>\n",
       "    </tr>\n",
       "    <tr>\n",
       "      <td>1</td>\n",
       "      <td>4083608</td>\n",
       "      <td>0</td>\n",
       "      <td>0.0</td>\n",
       "      <td>2019-02</td>\n",
       "      <td>2019</td>\n",
       "      <td>02</td>\n",
       "    </tr>\n",
       "    <tr>\n",
       "      <td>2</td>\n",
       "      <td>4077792</td>\n",
       "      <td>0</td>\n",
       "      <td>0.0</td>\n",
       "      <td>2019-02</td>\n",
       "      <td>2019</td>\n",
       "      <td>02</td>\n",
       "    </tr>\n",
       "    <tr>\n",
       "      <td>3</td>\n",
       "      <td>4084942</td>\n",
       "      <td>0</td>\n",
       "      <td>0.0</td>\n",
       "      <td>2019-02</td>\n",
       "      <td>2019</td>\n",
       "      <td>02</td>\n",
       "    </tr>\n",
       "    <tr>\n",
       "      <td>4</td>\n",
       "      <td>4071210</td>\n",
       "      <td>0</td>\n",
       "      <td>0.0</td>\n",
       "      <td>2019-01</td>\n",
       "      <td>2019</td>\n",
       "      <td>01</td>\n",
       "    </tr>\n",
       "  </tbody>\n",
       "</table>\n",
       "</div>"
      ],
      "text/plain": [
       "   Crash_ID  Crash_Fatal_Fl  Death_Cnt yearMonth  Year Month\n",
       "0   4070993               0        0.0   2019-01  2019    01\n",
       "1   4083608               0        0.0   2019-02  2019    02\n",
       "2   4077792               0        0.0   2019-02  2019    02\n",
       "3   4084942               0        0.0   2019-02  2019    02\n",
       "4   4071210               0        0.0   2019-01  2019    01"
      ]
     },
     "execution_count": 51,
     "metadata": {},
     "output_type": "execute_result"
    }
   ],
   "source": [
    "dataSubAgg.head()"
   ]
  },
  {
   "cell_type": "markdown",
   "metadata": {},
   "source": [
    "## YearMonth"
   ]
  },
  {
   "cell_type": "code",
   "execution_count": 52,
   "metadata": {
    "colab": {},
    "colab_type": "code",
    "id": "VEcdmB01X-Ze"
   },
   "outputs": [],
   "source": [
    "dataSubYearMonth = dataSubAgg.groupby(['Year','Month']).agg({'Crash_ID': 'count',\n",
    "                                                                   'Crash_Fatal_Fl': 'sum',\n",
    "                                                                   'Death_Cnt': 'sum',\n",
    "                                                                   'yearMonth': 'max'}).reset_index()"
   ]
  },
  {
   "cell_type": "code",
   "execution_count": 53,
   "metadata": {},
   "outputs": [],
   "source": [
    "dataSubYearMonth['crashPctChange'] = dataSubYearMonth.Crash_ID.pct_change()\n",
    "dataSubYearMonth['deathCntPctChange'] = dataSubYearMonth.Death_Cnt.pct_change()\n",
    "dataSubYearMonth['fatalPctChange'] = dataSubYearMonth.Crash_Fatal_Fl.pct_change()\n",
    "dataSubYearMonth['State']='New York City'\n",
    "dataSubYearMonth['Country']='United States'"
   ]
  },
  {
   "cell_type": "code",
   "execution_count": 54,
   "metadata": {},
   "outputs": [],
   "source": [
    "dataSubYearMonth['deathRate']=dataSubYearMonth['Death_Cnt']/dataSubYearMonth['Crash_ID']\n",
    "dataSubYearMonth['fatRate']=dataSubYearMonth['Crash_Fatal_Fl']/dataSubYearMonth['Crash_ID']"
   ]
  },
  {
   "cell_type": "code",
   "execution_count": 55,
   "metadata": {},
   "outputs": [],
   "source": [
    "dataSubYearMonth['deathRatePctChange'] = dataSubYearMonth.deathRate.pct_change()\n",
    "dataSubYearMonth['fatRatePctChange'] = dataSubYearMonth.fatRate.pct_change()"
   ]
  },
  {
   "cell_type": "code",
   "execution_count": 56,
   "metadata": {},
   "outputs": [],
   "source": [
    "with open(\"NYC_dataSubYearMonth.csv\",'w', newline='') as outputfile:\n",
    "    dataSubYearMonth.to_csv(outputfile, header=True, index = False) "
   ]
  },
  {
   "cell_type": "code",
   "execution_count": 57,
   "metadata": {},
   "outputs": [],
   "source": [
    "datacheck = pd.read_csv('NYC_dataSubYearMonth.csv')"
   ]
  },
  {
   "cell_type": "code",
   "execution_count": 58,
   "metadata": {},
   "outputs": [
    {
     "data": {
      "text/plain": [
       "(17, 15)"
      ]
     },
     "execution_count": 58,
     "metadata": {},
     "output_type": "execute_result"
    }
   ],
   "source": [
    "datacheck.shape"
   ]
  },
  {
   "cell_type": "markdown",
   "metadata": {},
   "source": [
    "## MonthYear"
   ]
  },
  {
   "cell_type": "code",
   "execution_count": 59,
   "metadata": {},
   "outputs": [],
   "source": [
    "dataSubMonthYear = dataSubAgg.groupby(['Month','Year']).agg({'Crash_ID': 'count',\n",
    "                                                                   'Crash_Fatal_Fl': 'sum',\n",
    "                                                                   'Death_Cnt': 'sum',\n",
    "                                                                   'yearMonth': 'max'}).reset_index()"
   ]
  },
  {
   "cell_type": "code",
   "execution_count": 60,
   "metadata": {},
   "outputs": [],
   "source": [
    "dataSubMonthYear['crashPctChange'] = dataSubMonthYear.groupby('Month')['Crash_ID'].apply(lambda x: x.div(x.iloc[0]).subtract(1))\n",
    "dataSubMonthYear['deathCntPctChange'] = dataSubMonthYear.groupby('Month')['Death_Cnt'].apply(lambda x: x.div(x.iloc[0]).subtract(1))\n",
    "dataSubMonthYear['fatalPctChange'] = dataSubMonthYear.groupby('Month')['Crash_Fatal_Fl'].apply(lambda x: x.div(x.iloc[0]).subtract(1))\n",
    "dataSubMonthYear['State']='New York City'\n",
    "dataSubMonthYear['Country']='United States'"
   ]
  },
  {
   "cell_type": "code",
   "execution_count": 61,
   "metadata": {},
   "outputs": [],
   "source": [
    "dataSubMonthYear['deathRate']=dataSubMonthYear['Death_Cnt']/dataSubMonthYear['Crash_ID']\n",
    "dataSubMonthYear['fatRate']=dataSubMonthYear['Crash_Fatal_Fl']/dataSubMonthYear['Crash_ID']"
   ]
  },
  {
   "cell_type": "code",
   "execution_count": 62,
   "metadata": {},
   "outputs": [],
   "source": [
    "dataSubMonthYear['deathRatePctChange'] = dataSubMonthYear.groupby('Month')['deathRate'].apply(lambda x: x.div(x.iloc[0]).subtract(1))\n",
    "dataSubMonthYear['fatRatePctChange'] = dataSubMonthYear.groupby('Month')['fatRate'].apply(lambda x: x.div(x.iloc[0]).subtract(1))"
   ]
  },
  {
   "cell_type": "code",
   "execution_count": 63,
   "metadata": {},
   "outputs": [],
   "source": [
    "with open(\"NYC_dataSubMonthYear.csv\",'w', newline='') as outputfile:\n",
    "    dataSubMonthYear.to_csv(outputfile, header=True, index = False) "
   ]
  },
  {
   "cell_type": "code",
   "execution_count": 64,
   "metadata": {},
   "outputs": [
    {
     "data": {
      "text/plain": [
       "(17, 15)"
      ]
     },
     "execution_count": 64,
     "metadata": {},
     "output_type": "execute_result"
    }
   ],
   "source": [
    "datacheck = pd.read_csv('NYC_dataSubMonthYear.csv')\n",
    "datacheck.shape"
   ]
  },
  {
   "cell_type": "markdown",
   "metadata": {},
   "source": [
    "#### The december tied data\n",
    "In this section we compare the all the months we have in 2020 to the most recent \"normal month\" which is December."
   ]
  },
  {
   "cell_type": "code",
   "execution_count": 65,
   "metadata": {},
   "outputs": [],
   "source": [
    "compare = dataSubYearMonth[['yearMonth', 'Crash_ID', 'Crash_Fatal_Fl']][dataSubYearMonth.yearMonth >= '2019-12']\n",
    "compare['crashPctChangeCompareDec'] = compare.Crash_ID / compare.Crash_ID.iloc[0] - 1\n",
    "compare['fatalPctChangeCompareDec'] = compare.Crash_Fatal_Fl / compare.Crash_Fatal_Fl.iloc[0] - 1\n",
    "\n",
    "compare['State']='New York City'\n",
    "compare['Country']='United States'"
   ]
  },
  {
   "cell_type": "code",
   "execution_count": 66,
   "metadata": {},
   "outputs": [
    {
     "data": {
      "text/html": [
       "<div>\n",
       "<style scoped>\n",
       "    .dataframe tbody tr th:only-of-type {\n",
       "        vertical-align: middle;\n",
       "    }\n",
       "\n",
       "    .dataframe tbody tr th {\n",
       "        vertical-align: top;\n",
       "    }\n",
       "\n",
       "    .dataframe thead th {\n",
       "        text-align: right;\n",
       "    }\n",
       "</style>\n",
       "<table border=\"1\" class=\"dataframe\">\n",
       "  <thead>\n",
       "    <tr style=\"text-align: right;\">\n",
       "      <th></th>\n",
       "      <th>yearMonth</th>\n",
       "      <th>Crash_ID</th>\n",
       "      <th>Crash_Fatal_Fl</th>\n",
       "      <th>crashPctChangeCompareDec</th>\n",
       "      <th>fatalPctChangeCompareDec</th>\n",
       "      <th>State</th>\n",
       "      <th>Country</th>\n",
       "    </tr>\n",
       "  </thead>\n",
       "  <tbody>\n",
       "    <tr>\n",
       "      <td>11</td>\n",
       "      <td>2019-12</td>\n",
       "      <td>17056</td>\n",
       "      <td>25</td>\n",
       "      <td>0.000000</td>\n",
       "      <td>0.00</td>\n",
       "      <td>New York City</td>\n",
       "      <td>United States</td>\n",
       "    </tr>\n",
       "    <tr>\n",
       "      <td>12</td>\n",
       "      <td>2020-01</td>\n",
       "      <td>14278</td>\n",
       "      <td>17</td>\n",
       "      <td>-0.162875</td>\n",
       "      <td>-0.32</td>\n",
       "      <td>New York City</td>\n",
       "      <td>United States</td>\n",
       "    </tr>\n",
       "    <tr>\n",
       "      <td>13</td>\n",
       "      <td>2020-02</td>\n",
       "      <td>13674</td>\n",
       "      <td>20</td>\n",
       "      <td>-0.198288</td>\n",
       "      <td>-0.20</td>\n",
       "      <td>New York City</td>\n",
       "      <td>United States</td>\n",
       "    </tr>\n",
       "    <tr>\n",
       "      <td>14</td>\n",
       "      <td>2020-03</td>\n",
       "      <td>11034</td>\n",
       "      <td>8</td>\n",
       "      <td>-0.353072</td>\n",
       "      <td>-0.68</td>\n",
       "      <td>New York City</td>\n",
       "      <td>United States</td>\n",
       "    </tr>\n",
       "    <tr>\n",
       "      <td>15</td>\n",
       "      <td>2020-04</td>\n",
       "      <td>4103</td>\n",
       "      <td>13</td>\n",
       "      <td>-0.759439</td>\n",
       "      <td>-0.48</td>\n",
       "      <td>New York City</td>\n",
       "      <td>United States</td>\n",
       "    </tr>\n",
       "    <tr>\n",
       "      <td>16</td>\n",
       "      <td>2020-05</td>\n",
       "      <td>5954</td>\n",
       "      <td>11</td>\n",
       "      <td>-0.650915</td>\n",
       "      <td>-0.56</td>\n",
       "      <td>New York City</td>\n",
       "      <td>United States</td>\n",
       "    </tr>\n",
       "  </tbody>\n",
       "</table>\n",
       "</div>"
      ],
      "text/plain": [
       "   yearMonth  Crash_ID  Crash_Fatal_Fl  crashPctChangeCompareDec  fatalPctChangeCompareDec          State        Country\n",
       "11   2019-12     17056              25                  0.000000                      0.00  New York City  United States\n",
       "12   2020-01     14278              17                 -0.162875                     -0.32  New York City  United States\n",
       "13   2020-02     13674              20                 -0.198288                     -0.20  New York City  United States\n",
       "14   2020-03     11034               8                 -0.353072                     -0.68  New York City  United States\n",
       "15   2020-04      4103              13                 -0.759439                     -0.48  New York City  United States\n",
       "16   2020-05      5954              11                 -0.650915                     -0.56  New York City  United States"
      ]
     },
     "execution_count": 66,
     "metadata": {},
     "output_type": "execute_result"
    }
   ],
   "source": [
    "compare"
   ]
  },
  {
   "cell_type": "code",
   "execution_count": 67,
   "metadata": {},
   "outputs": [],
   "source": [
    "with open(\"NYC_PctChangeCompareDec.csv\",'w', newline = '') as outputfile:\n",
    "    compare.to_csv(outputfile, header=True, index = False) "
   ]
  },
  {
   "cell_type": "code",
   "execution_count": null,
   "metadata": {},
   "outputs": [],
   "source": []
  }
 ],
 "metadata": {
  "colab": {
   "name": "California_Road_Inventory.ipynb",
   "provenance": []
  },
  "kernelspec": {
   "display_name": "Python 3",
   "language": "python",
   "name": "python3"
  },
  "language_info": {
   "codemirror_mode": {
    "name": "ipython",
    "version": 3
   },
   "file_extension": ".py",
   "mimetype": "text/x-python",
   "name": "python",
   "nbconvert_exporter": "python",
   "pygments_lexer": "ipython3",
   "version": "3.7.3"
  }
 },
 "nbformat": 4,
 "nbformat_minor": 1
}
