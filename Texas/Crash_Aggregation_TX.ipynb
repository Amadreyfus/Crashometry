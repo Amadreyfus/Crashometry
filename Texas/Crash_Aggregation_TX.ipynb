{
 "cells": [
  {
   "cell_type": "code",
   "execution_count": 2,
   "metadata": {
    "colab": {},
    "colab_type": "code",
    "id": "VNeIpf2Qa1ca"
   },
   "outputs": [],
   "source": [
    "import pandas as pd\n",
    "import numpy as np\n",
    "pd.set_option('display.max_rows', 500)\n",
    "pd.set_option('display.max_columns', 500)\n",
    "pd.set_option('display.width', 1000)\n",
    "import datetime as dt\n",
    "import warnings\n",
    "warnings.filterwarnings(\"ignore\")"
   ]
  },
  {
   "cell_type": "markdown",
   "metadata": {},
   "source": [
    "#### 2019 + 2020"
   ]
  },
  {
   "cell_type": "code",
   "execution_count": 3,
   "metadata": {},
   "outputs": [],
   "source": [
    "data19 = pd.read_csv(\"Texas_Crash_Data_2019.csv\")\n",
    "data20 = pd.read_csv(\"Texas_Crash_Data_2020.csv\")"
   ]
  },
  {
   "cell_type": "code",
   "execution_count": 4,
   "metadata": {},
   "outputs": [],
   "source": [
    "data = data19.append(data20, sort = False)"
   ]
  },
  {
   "cell_type": "code",
   "execution_count": 21,
   "metadata": {},
   "outputs": [
    {
     "data": {
      "text/plain": [
       "(845855, 171)"
      ]
     },
     "execution_count": 21,
     "metadata": {},
     "output_type": "execute_result"
    }
   ],
   "source": [
    "data.shape"
   ]
  },
  {
   "cell_type": "code",
   "execution_count": 22,
   "metadata": {},
   "outputs": [],
   "source": [
    "dataSub = data[['Crash_ID', 'Crash_Fatal_Fl','Crash_Date','Death_Cnt']]\n",
    "data['Crash_Fatal_Fl'] = np.where((data['Crash_Fatal_Fl'] == 'Y'),1,0)\n",
    "dataSub['Crash_Date'] = pd.to_datetime(dataSub['Crash_Date'])"
   ]
  },
  {
   "cell_type": "code",
   "execution_count": 23,
   "metadata": {},
   "outputs": [
    {
     "data": {
      "text/html": [
       "<div>\n",
       "<style scoped>\n",
       "    .dataframe tbody tr th:only-of-type {\n",
       "        vertical-align: middle;\n",
       "    }\n",
       "\n",
       "    .dataframe tbody tr th {\n",
       "        vertical-align: top;\n",
       "    }\n",
       "\n",
       "    .dataframe thead th {\n",
       "        text-align: right;\n",
       "    }\n",
       "</style>\n",
       "<table border=\"1\" class=\"dataframe\">\n",
       "  <thead>\n",
       "    <tr style=\"text-align: right;\">\n",
       "      <th></th>\n",
       "      <th>Crash_ID</th>\n",
       "      <th>Crash_Fatal_Fl</th>\n",
       "      <th>Crash_Date</th>\n",
       "      <th>Death_Cnt</th>\n",
       "    </tr>\n",
       "  </thead>\n",
       "  <tbody>\n",
       "    <tr>\n",
       "      <td>0</td>\n",
       "      <td>15581806</td>\n",
       "      <td>0</td>\n",
       "      <td>2019-02-10</td>\n",
       "      <td>0</td>\n",
       "    </tr>\n",
       "    <tr>\n",
       "      <td>1</td>\n",
       "      <td>15585669</td>\n",
       "      <td>0</td>\n",
       "      <td>2019-02-10</td>\n",
       "      <td>0</td>\n",
       "    </tr>\n",
       "    <tr>\n",
       "      <td>2</td>\n",
       "      <td>15585883</td>\n",
       "      <td>0</td>\n",
       "      <td>2019-02-10</td>\n",
       "      <td>0</td>\n",
       "    </tr>\n",
       "    <tr>\n",
       "      <td>3</td>\n",
       "      <td>16585839</td>\n",
       "      <td>0</td>\n",
       "      <td>2019-01-26</td>\n",
       "      <td>0</td>\n",
       "    </tr>\n",
       "    <tr>\n",
       "      <td>4</td>\n",
       "      <td>16822437</td>\n",
       "      <td>0</td>\n",
       "      <td>2018-12-31</td>\n",
       "      <td>0</td>\n",
       "    </tr>\n",
       "  </tbody>\n",
       "</table>\n",
       "</div>"
      ],
      "text/plain": [
       "   Crash_ID  Crash_Fatal_Fl Crash_Date  Death_Cnt\n",
       "0  15581806               0 2019-02-10          0\n",
       "1  15585669               0 2019-02-10          0\n",
       "2  15585883               0 2019-02-10          0\n",
       "3  16585839               0 2019-01-26          0\n",
       "4  16822437               0 2018-12-31          0"
      ]
     },
     "execution_count": 23,
     "metadata": {},
     "output_type": "execute_result"
    }
   ],
   "source": [
    "dataSub.head()"
   ]
  },
  {
   "cell_type": "code",
   "execution_count": 24,
   "metadata": {},
   "outputs": [],
   "source": [
    "dataSubAgg = dataSub.copy()"
   ]
  },
  {
   "cell_type": "code",
   "execution_count": 25,
   "metadata": {
    "colab": {},
    "colab_type": "code",
    "id": "VBjroLZ5a1cg"
   },
   "outputs": [],
   "source": [
    "dataSubAgg['yearMonth'] = dataSubAgg['Crash_Date'].dt.strftime('%Y-%m')\n",
    "dataSubAgg['Year'] = dataSubAgg['Crash_Date'].dt.strftime('%Y')\n",
    "dataSubAgg['Month'] = dataSubAgg['Crash_Date'].dt.strftime('%m')\n",
    "dataSubAgg = dataSubAgg.drop(['Crash_Date'], axis = 1)"
   ]
  },
  {
   "cell_type": "code",
   "execution_count": 26,
   "metadata": {
    "colab": {},
    "colab_type": "code",
    "id": "H0Takya8X-Zb"
   },
   "outputs": [],
   "source": [
    "dataSubAgg.rename(columns={\"DocumentNumber\": \"Crash_ID\", \"TotalKilled\": \"Death_Cnt\"}, inplace = True)"
   ]
  },
  {
   "cell_type": "code",
   "execution_count": 27,
   "metadata": {},
   "outputs": [
    {
     "data": {
      "text/html": [
       "<div>\n",
       "<style scoped>\n",
       "    .dataframe tbody tr th:only-of-type {\n",
       "        vertical-align: middle;\n",
       "    }\n",
       "\n",
       "    .dataframe tbody tr th {\n",
       "        vertical-align: top;\n",
       "    }\n",
       "\n",
       "    .dataframe thead th {\n",
       "        text-align: right;\n",
       "    }\n",
       "</style>\n",
       "<table border=\"1\" class=\"dataframe\">\n",
       "  <thead>\n",
       "    <tr style=\"text-align: right;\">\n",
       "      <th></th>\n",
       "      <th>Crash_ID</th>\n",
       "      <th>Crash_Fatal_Fl</th>\n",
       "      <th>Death_Cnt</th>\n",
       "      <th>yearMonth</th>\n",
       "      <th>Year</th>\n",
       "      <th>Month</th>\n",
       "    </tr>\n",
       "  </thead>\n",
       "  <tbody>\n",
       "    <tr>\n",
       "      <td>0</td>\n",
       "      <td>15581806</td>\n",
       "      <td>0</td>\n",
       "      <td>0</td>\n",
       "      <td>2019-02</td>\n",
       "      <td>2019</td>\n",
       "      <td>02</td>\n",
       "    </tr>\n",
       "    <tr>\n",
       "      <td>1</td>\n",
       "      <td>15585669</td>\n",
       "      <td>0</td>\n",
       "      <td>0</td>\n",
       "      <td>2019-02</td>\n",
       "      <td>2019</td>\n",
       "      <td>02</td>\n",
       "    </tr>\n",
       "    <tr>\n",
       "      <td>2</td>\n",
       "      <td>15585883</td>\n",
       "      <td>0</td>\n",
       "      <td>0</td>\n",
       "      <td>2019-02</td>\n",
       "      <td>2019</td>\n",
       "      <td>02</td>\n",
       "    </tr>\n",
       "    <tr>\n",
       "      <td>3</td>\n",
       "      <td>16585839</td>\n",
       "      <td>0</td>\n",
       "      <td>0</td>\n",
       "      <td>2019-01</td>\n",
       "      <td>2019</td>\n",
       "      <td>01</td>\n",
       "    </tr>\n",
       "    <tr>\n",
       "      <td>4</td>\n",
       "      <td>16822437</td>\n",
       "      <td>0</td>\n",
       "      <td>0</td>\n",
       "      <td>2018-12</td>\n",
       "      <td>2018</td>\n",
       "      <td>12</td>\n",
       "    </tr>\n",
       "  </tbody>\n",
       "</table>\n",
       "</div>"
      ],
      "text/plain": [
       "   Crash_ID  Crash_Fatal_Fl  Death_Cnt yearMonth  Year Month\n",
       "0  15581806               0          0   2019-02  2019    02\n",
       "1  15585669               0          0   2019-02  2019    02\n",
       "2  15585883               0          0   2019-02  2019    02\n",
       "3  16585839               0          0   2019-01  2019    01\n",
       "4  16822437               0          0   2018-12  2018    12"
      ]
     },
     "execution_count": 27,
     "metadata": {},
     "output_type": "execute_result"
    }
   ],
   "source": [
    "dataSubAgg.head()"
   ]
  },
  {
   "cell_type": "code",
   "execution_count": 46,
   "metadata": {},
   "outputs": [],
   "source": [
    "dataSubAgg = dataSubAgg[(dataSubAgg['Year'] != '2018')]"
   ]
  },
  {
   "cell_type": "markdown",
   "metadata": {},
   "source": [
    "## YearMonth"
   ]
  },
  {
   "cell_type": "code",
   "execution_count": 47,
   "metadata": {
    "colab": {},
    "colab_type": "code",
    "id": "VEcdmB01X-Ze"
   },
   "outputs": [],
   "source": [
    "dataSubYearMonth = dataSubAgg.groupby(['Year','Month']).agg({'Crash_ID': 'count',\n",
    "                                                                   'Crash_Fatal_Fl': 'sum',\n",
    "                                                                   'Death_Cnt': 'sum',\n",
    "                                                                   'yearMonth': 'max'}).reset_index()"
   ]
  },
  {
   "cell_type": "code",
   "execution_count": 48,
   "metadata": {},
   "outputs": [],
   "source": [
    "dataSubYearMonth['crashPctChange'] = dataSubYearMonth.Crash_ID.pct_change()\n",
    "dataSubYearMonth['deathCntPctChange'] = dataSubYearMonth.Death_Cnt.pct_change()\n",
    "dataSubYearMonth['fatalPctChange'] = dataSubYearMonth.Crash_Fatal_Fl.pct_change()\n",
    "dataSubYearMonth['State']='Texas'\n",
    "dataSubYearMonth['Country']='United States'"
   ]
  },
  {
   "cell_type": "code",
   "execution_count": 49,
   "metadata": {},
   "outputs": [],
   "source": [
    "dataSubYearMonth['deathRate']=dataSubYearMonth['Death_Cnt']/dataSubYearMonth['Crash_ID']\n",
    "dataSubYearMonth['fatRate']=dataSubYearMonth['Crash_Fatal_Fl']/dataSubYearMonth['Crash_ID']"
   ]
  },
  {
   "cell_type": "code",
   "execution_count": 50,
   "metadata": {},
   "outputs": [],
   "source": [
    "dataSubYearMonth['deathRatePctChange'] = dataSubYearMonth.deathRate.pct_change()\n",
    "dataSubYearMonth['fatRatePctChange'] = dataSubYearMonth.fatRate.pct_change()"
   ]
  },
  {
   "cell_type": "code",
   "execution_count": 51,
   "metadata": {},
   "outputs": [],
   "source": [
    "with open(\"TX_dataSubYearMonth.csv\",'w',newline='') as outputfile:\n",
    "    dataSubYearMonth.to_csv(outputfile, header=True, index = False) "
   ]
  },
  {
   "cell_type": "code",
   "execution_count": 52,
   "metadata": {},
   "outputs": [],
   "source": [
    "datacheck = pd.read_csv('TX_dataSubYearMonth.csv')"
   ]
  },
  {
   "cell_type": "code",
   "execution_count": 53,
   "metadata": {},
   "outputs": [
    {
     "data": {
      "text/html": [
       "<div>\n",
       "<style scoped>\n",
       "    .dataframe tbody tr th:only-of-type {\n",
       "        vertical-align: middle;\n",
       "    }\n",
       "\n",
       "    .dataframe tbody tr th {\n",
       "        vertical-align: top;\n",
       "    }\n",
       "\n",
       "    .dataframe thead th {\n",
       "        text-align: right;\n",
       "    }\n",
       "</style>\n",
       "<table border=\"1\" class=\"dataframe\">\n",
       "  <thead>\n",
       "    <tr style=\"text-align: right;\">\n",
       "      <th></th>\n",
       "      <th>Year</th>\n",
       "      <th>Month</th>\n",
       "      <th>Crash_ID</th>\n",
       "      <th>Crash_Fatal_Fl</th>\n",
       "      <th>Death_Cnt</th>\n",
       "      <th>yearMonth</th>\n",
       "      <th>crashPctChange</th>\n",
       "      <th>deathCntPctChange</th>\n",
       "      <th>fatalPctChange</th>\n",
       "      <th>State</th>\n",
       "      <th>Country</th>\n",
       "      <th>deathRate</th>\n",
       "      <th>fatRate</th>\n",
       "      <th>deathRatePctChange</th>\n",
       "      <th>fatRatePctChange</th>\n",
       "    </tr>\n",
       "  </thead>\n",
       "  <tbody>\n",
       "    <tr>\n",
       "      <td>0</td>\n",
       "      <td>2019</td>\n",
       "      <td>1</td>\n",
       "      <td>48832</td>\n",
       "      <td>248</td>\n",
       "      <td>279</td>\n",
       "      <td>2019-01</td>\n",
       "      <td>NaN</td>\n",
       "      <td>NaN</td>\n",
       "      <td>NaN</td>\n",
       "      <td>Texas</td>\n",
       "      <td>United States</td>\n",
       "      <td>0.005713</td>\n",
       "      <td>0.005079</td>\n",
       "      <td>NaN</td>\n",
       "      <td>NaN</td>\n",
       "    </tr>\n",
       "    <tr>\n",
       "      <td>1</td>\n",
       "      <td>2019</td>\n",
       "      <td>2</td>\n",
       "      <td>48660</td>\n",
       "      <td>232</td>\n",
       "      <td>244</td>\n",
       "      <td>2019-02</td>\n",
       "      <td>-0.003522</td>\n",
       "      <td>-0.125448</td>\n",
       "      <td>-0.064516</td>\n",
       "      <td>Texas</td>\n",
       "      <td>United States</td>\n",
       "      <td>0.005014</td>\n",
       "      <td>0.004768</td>\n",
       "      <td>-0.122357</td>\n",
       "      <td>-0.061209</td>\n",
       "    </tr>\n",
       "    <tr>\n",
       "      <td>2</td>\n",
       "      <td>2019</td>\n",
       "      <td>3</td>\n",
       "      <td>55180</td>\n",
       "      <td>264</td>\n",
       "      <td>305</td>\n",
       "      <td>2019-03</td>\n",
       "      <td>0.133991</td>\n",
       "      <td>0.250000</td>\n",
       "      <td>0.137931</td>\n",
       "      <td>Texas</td>\n",
       "      <td>United States</td>\n",
       "      <td>0.005527</td>\n",
       "      <td>0.004784</td>\n",
       "      <td>0.102302</td>\n",
       "      <td>0.003475</td>\n",
       "    </tr>\n",
       "    <tr>\n",
       "      <td>3</td>\n",
       "      <td>2019</td>\n",
       "      <td>4</td>\n",
       "      <td>56117</td>\n",
       "      <td>288</td>\n",
       "      <td>316</td>\n",
       "      <td>2019-04</td>\n",
       "      <td>0.016981</td>\n",
       "      <td>0.036066</td>\n",
       "      <td>0.090909</td>\n",
       "      <td>Texas</td>\n",
       "      <td>United States</td>\n",
       "      <td>0.005631</td>\n",
       "      <td>0.005132</td>\n",
       "      <td>0.018766</td>\n",
       "      <td>0.072694</td>\n",
       "    </tr>\n",
       "    <tr>\n",
       "      <td>4</td>\n",
       "      <td>2019</td>\n",
       "      <td>5</td>\n",
       "      <td>55967</td>\n",
       "      <td>277</td>\n",
       "      <td>298</td>\n",
       "      <td>2019-05</td>\n",
       "      <td>-0.002673</td>\n",
       "      <td>-0.056962</td>\n",
       "      <td>-0.038194</td>\n",
       "      <td>Texas</td>\n",
       "      <td>United States</td>\n",
       "      <td>0.005325</td>\n",
       "      <td>0.004949</td>\n",
       "      <td>-0.054435</td>\n",
       "      <td>-0.035617</td>\n",
       "    </tr>\n",
       "    <tr>\n",
       "      <td>5</td>\n",
       "      <td>2019</td>\n",
       "      <td>6</td>\n",
       "      <td>51697</td>\n",
       "      <td>277</td>\n",
       "      <td>304</td>\n",
       "      <td>2019-06</td>\n",
       "      <td>-0.076295</td>\n",
       "      <td>0.020134</td>\n",
       "      <td>0.000000</td>\n",
       "      <td>Texas</td>\n",
       "      <td>United States</td>\n",
       "      <td>0.005880</td>\n",
       "      <td>0.005358</td>\n",
       "      <td>0.104394</td>\n",
       "      <td>0.082597</td>\n",
       "    </tr>\n",
       "    <tr>\n",
       "      <td>6</td>\n",
       "      <td>2019</td>\n",
       "      <td>7</td>\n",
       "      <td>50274</td>\n",
       "      <td>290</td>\n",
       "      <td>318</td>\n",
       "      <td>2019-07</td>\n",
       "      <td>-0.027526</td>\n",
       "      <td>0.046053</td>\n",
       "      <td>0.046931</td>\n",
       "      <td>Texas</td>\n",
       "      <td>United States</td>\n",
       "      <td>0.006325</td>\n",
       "      <td>0.005768</td>\n",
       "      <td>0.075661</td>\n",
       "      <td>0.076565</td>\n",
       "    </tr>\n",
       "    <tr>\n",
       "      <td>7</td>\n",
       "      <td>2019</td>\n",
       "      <td>8</td>\n",
       "      <td>55201</td>\n",
       "      <td>279</td>\n",
       "      <td>310</td>\n",
       "      <td>2019-08</td>\n",
       "      <td>0.098003</td>\n",
       "      <td>-0.025157</td>\n",
       "      <td>-0.037931</td>\n",
       "      <td>Texas</td>\n",
       "      <td>United States</td>\n",
       "      <td>0.005616</td>\n",
       "      <td>0.005054</td>\n",
       "      <td>-0.112167</td>\n",
       "      <td>-0.123801</td>\n",
       "    </tr>\n",
       "    <tr>\n",
       "      <td>8</td>\n",
       "      <td>2019</td>\n",
       "      <td>9</td>\n",
       "      <td>54035</td>\n",
       "      <td>289</td>\n",
       "      <td>311</td>\n",
       "      <td>2019-09</td>\n",
       "      <td>-0.021123</td>\n",
       "      <td>0.003226</td>\n",
       "      <td>0.035842</td>\n",
       "      <td>Texas</td>\n",
       "      <td>United States</td>\n",
       "      <td>0.005756</td>\n",
       "      <td>0.005348</td>\n",
       "      <td>0.024874</td>\n",
       "      <td>0.058194</td>\n",
       "    </tr>\n",
       "    <tr>\n",
       "      <td>9</td>\n",
       "      <td>2019</td>\n",
       "      <td>10</td>\n",
       "      <td>59370</td>\n",
       "      <td>294</td>\n",
       "      <td>316</td>\n",
       "      <td>2019-10</td>\n",
       "      <td>0.098732</td>\n",
       "      <td>0.016077</td>\n",
       "      <td>0.017301</td>\n",
       "      <td>Texas</td>\n",
       "      <td>United States</td>\n",
       "      <td>0.005323</td>\n",
       "      <td>0.004952</td>\n",
       "      <td>-0.075228</td>\n",
       "      <td>-0.074114</td>\n",
       "    </tr>\n",
       "    <tr>\n",
       "      <td>10</td>\n",
       "      <td>2019</td>\n",
       "      <td>11</td>\n",
       "      <td>55712</td>\n",
       "      <td>291</td>\n",
       "      <td>325</td>\n",
       "      <td>2019-11</td>\n",
       "      <td>-0.061614</td>\n",
       "      <td>0.028481</td>\n",
       "      <td>-0.010204</td>\n",
       "      <td>Texas</td>\n",
       "      <td>United States</td>\n",
       "      <td>0.005834</td>\n",
       "      <td>0.005223</td>\n",
       "      <td>0.096010</td>\n",
       "      <td>0.054785</td>\n",
       "    </tr>\n",
       "    <tr>\n",
       "      <td>11</td>\n",
       "      <td>2019</td>\n",
       "      <td>12</td>\n",
       "      <td>55701</td>\n",
       "      <td>314</td>\n",
       "      <td>339</td>\n",
       "      <td>2019-12</td>\n",
       "      <td>-0.000197</td>\n",
       "      <td>0.043077</td>\n",
       "      <td>0.079038</td>\n",
       "      <td>Texas</td>\n",
       "      <td>United States</td>\n",
       "      <td>0.006086</td>\n",
       "      <td>0.005637</td>\n",
       "      <td>0.043283</td>\n",
       "      <td>0.079251</td>\n",
       "    </tr>\n",
       "    <tr>\n",
       "      <td>12</td>\n",
       "      <td>2020</td>\n",
       "      <td>1</td>\n",
       "      <td>52261</td>\n",
       "      <td>283</td>\n",
       "      <td>311</td>\n",
       "      <td>2020-01</td>\n",
       "      <td>-0.061758</td>\n",
       "      <td>-0.082596</td>\n",
       "      <td>-0.098726</td>\n",
       "      <td>Texas</td>\n",
       "      <td>United States</td>\n",
       "      <td>0.005951</td>\n",
       "      <td>0.005415</td>\n",
       "      <td>-0.022209</td>\n",
       "      <td>-0.039401</td>\n",
       "    </tr>\n",
       "    <tr>\n",
       "      <td>13</td>\n",
       "      <td>2020</td>\n",
       "      <td>2</td>\n",
       "      <td>51951</td>\n",
       "      <td>284</td>\n",
       "      <td>310</td>\n",
       "      <td>2020-02</td>\n",
       "      <td>-0.005932</td>\n",
       "      <td>-0.003215</td>\n",
       "      <td>0.003534</td>\n",
       "      <td>Texas</td>\n",
       "      <td>United States</td>\n",
       "      <td>0.005967</td>\n",
       "      <td>0.005467</td>\n",
       "      <td>0.002733</td>\n",
       "      <td>0.009522</td>\n",
       "    </tr>\n",
       "    <tr>\n",
       "      <td>14</td>\n",
       "      <td>2020</td>\n",
       "      <td>3</td>\n",
       "      <td>43765</td>\n",
       "      <td>240</td>\n",
       "      <td>256</td>\n",
       "      <td>2020-03</td>\n",
       "      <td>-0.157572</td>\n",
       "      <td>-0.174194</td>\n",
       "      <td>-0.154930</td>\n",
       "      <td>Texas</td>\n",
       "      <td>United States</td>\n",
       "      <td>0.005849</td>\n",
       "      <td>0.005484</td>\n",
       "      <td>-0.019731</td>\n",
       "      <td>0.003136</td>\n",
       "    </tr>\n",
       "    <tr>\n",
       "      <td>15</td>\n",
       "      <td>2020</td>\n",
       "      <td>4</td>\n",
       "      <td>28227</td>\n",
       "      <td>217</td>\n",
       "      <td>238</td>\n",
       "      <td>2020-04</td>\n",
       "      <td>-0.355033</td>\n",
       "      <td>-0.070312</td>\n",
       "      <td>-0.095833</td>\n",
       "      <td>Texas</td>\n",
       "      <td>United States</td>\n",
       "      <td>0.008432</td>\n",
       "      <td>0.007688</td>\n",
       "      <td>0.441449</td>\n",
       "      <td>0.401880</td>\n",
       "    </tr>\n",
       "    <tr>\n",
       "      <td>16</td>\n",
       "      <td>2020</td>\n",
       "      <td>5</td>\n",
       "      <td>21527</td>\n",
       "      <td>115</td>\n",
       "      <td>124</td>\n",
       "      <td>2020-05</td>\n",
       "      <td>-0.237361</td>\n",
       "      <td>-0.478992</td>\n",
       "      <td>-0.470046</td>\n",
       "      <td>Texas</td>\n",
       "      <td>United States</td>\n",
       "      <td>0.005760</td>\n",
       "      <td>0.005342</td>\n",
       "      <td>-0.316834</td>\n",
       "      <td>-0.305105</td>\n",
       "    </tr>\n",
       "  </tbody>\n",
       "</table>\n",
       "</div>"
      ],
      "text/plain": [
       "    Year  Month  Crash_ID  Crash_Fatal_Fl  Death_Cnt yearMonth  crashPctChange  deathCntPctChange  fatalPctChange  State        Country  deathRate   fatRate  deathRatePctChange  fatRatePctChange\n",
       "0   2019      1     48832             248        279   2019-01             NaN                NaN             NaN  Texas  United States   0.005713  0.005079                 NaN               NaN\n",
       "1   2019      2     48660             232        244   2019-02       -0.003522          -0.125448       -0.064516  Texas  United States   0.005014  0.004768           -0.122357         -0.061209\n",
       "2   2019      3     55180             264        305   2019-03        0.133991           0.250000        0.137931  Texas  United States   0.005527  0.004784            0.102302          0.003475\n",
       "3   2019      4     56117             288        316   2019-04        0.016981           0.036066        0.090909  Texas  United States   0.005631  0.005132            0.018766          0.072694\n",
       "4   2019      5     55967             277        298   2019-05       -0.002673          -0.056962       -0.038194  Texas  United States   0.005325  0.004949           -0.054435         -0.035617\n",
       "5   2019      6     51697             277        304   2019-06       -0.076295           0.020134        0.000000  Texas  United States   0.005880  0.005358            0.104394          0.082597\n",
       "6   2019      7     50274             290        318   2019-07       -0.027526           0.046053        0.046931  Texas  United States   0.006325  0.005768            0.075661          0.076565\n",
       "7   2019      8     55201             279        310   2019-08        0.098003          -0.025157       -0.037931  Texas  United States   0.005616  0.005054           -0.112167         -0.123801\n",
       "8   2019      9     54035             289        311   2019-09       -0.021123           0.003226        0.035842  Texas  United States   0.005756  0.005348            0.024874          0.058194\n",
       "9   2019     10     59370             294        316   2019-10        0.098732           0.016077        0.017301  Texas  United States   0.005323  0.004952           -0.075228         -0.074114\n",
       "10  2019     11     55712             291        325   2019-11       -0.061614           0.028481       -0.010204  Texas  United States   0.005834  0.005223            0.096010          0.054785\n",
       "11  2019     12     55701             314        339   2019-12       -0.000197           0.043077        0.079038  Texas  United States   0.006086  0.005637            0.043283          0.079251\n",
       "12  2020      1     52261             283        311   2020-01       -0.061758          -0.082596       -0.098726  Texas  United States   0.005951  0.005415           -0.022209         -0.039401\n",
       "13  2020      2     51951             284        310   2020-02       -0.005932          -0.003215        0.003534  Texas  United States   0.005967  0.005467            0.002733          0.009522\n",
       "14  2020      3     43765             240        256   2020-03       -0.157572          -0.174194       -0.154930  Texas  United States   0.005849  0.005484           -0.019731          0.003136\n",
       "15  2020      4     28227             217        238   2020-04       -0.355033          -0.070312       -0.095833  Texas  United States   0.008432  0.007688            0.441449          0.401880\n",
       "16  2020      5     21527             115        124   2020-05       -0.237361          -0.478992       -0.470046  Texas  United States   0.005760  0.005342           -0.316834         -0.305105"
      ]
     },
     "execution_count": 53,
     "metadata": {},
     "output_type": "execute_result"
    }
   ],
   "source": [
    "datacheck"
   ]
  },
  {
   "cell_type": "code",
   "execution_count": 54,
   "metadata": {},
   "outputs": [
    {
     "data": {
      "text/plain": [
       "(17, 15)"
      ]
     },
     "execution_count": 54,
     "metadata": {},
     "output_type": "execute_result"
    }
   ],
   "source": [
    "datacheck.shape"
   ]
  },
  {
   "cell_type": "markdown",
   "metadata": {},
   "source": [
    "## MonthYear"
   ]
  },
  {
   "cell_type": "code",
   "execution_count": 55,
   "metadata": {},
   "outputs": [],
   "source": [
    "dataSubMonthYear = dataSubAgg.groupby(['Month','Year']).agg({'Crash_ID': 'count',\n",
    "                                                                   'Crash_Fatal_Fl': 'sum',\n",
    "                                                                   'Death_Cnt': 'sum',\n",
    "                                                                   'yearMonth': 'max'}).reset_index()"
   ]
  },
  {
   "cell_type": "code",
   "execution_count": 56,
   "metadata": {},
   "outputs": [],
   "source": [
    "dataSubMonthYear['crashPctChange'] = dataSubMonthYear.groupby('Month')['Crash_ID'].apply(lambda x: x.div(x.iloc[0]).subtract(1))\n",
    "dataSubMonthYear['deathCntPctChange'] = dataSubMonthYear.groupby('Month')['Death_Cnt'].apply(lambda x: x.div(x.iloc[0]).subtract(1))\n",
    "dataSubMonthYear['fatalPctChange'] = dataSubMonthYear.groupby('Month')['Crash_Fatal_Fl'].apply(lambda x: x.div(x.iloc[0]).subtract(1))\n",
    "dataSubMonthYear['State']='Texas'\n",
    "dataSubMonthYear['Country']='United States'"
   ]
  },
  {
   "cell_type": "code",
   "execution_count": 57,
   "metadata": {},
   "outputs": [],
   "source": [
    "dataSubMonthYear['deathRate']=dataSubMonthYear['Death_Cnt']/dataSubMonthYear['Crash_ID']\n",
    "dataSubMonthYear['fatRate']=dataSubMonthYear['Crash_Fatal_Fl']/dataSubMonthYear['Crash_ID']"
   ]
  },
  {
   "cell_type": "code",
   "execution_count": 58,
   "metadata": {},
   "outputs": [],
   "source": [
    "dataSubMonthYear['deathRatePctChange'] = dataSubMonthYear.groupby('Month')['deathRate'].apply(lambda x: x.div(x.iloc[0]).subtract(1))\n",
    "dataSubMonthYear['fatRatePctChange'] = dataSubMonthYear.groupby('Month')['fatRate'].apply(lambda x: x.div(x.iloc[0]).subtract(1))"
   ]
  },
  {
   "cell_type": "code",
   "execution_count": 59,
   "metadata": {},
   "outputs": [],
   "source": [
    "with open(\"TX_dataSubMonthYear.csv\",'w',newline='') as outputfile:\n",
    "    dataSubMonthYear.to_csv(outputfile, header=True, index = False) "
   ]
  },
  {
   "cell_type": "code",
   "execution_count": 60,
   "metadata": {},
   "outputs": [
    {
     "data": {
      "text/plain": [
       "(17, 15)"
      ]
     },
     "execution_count": 60,
     "metadata": {},
     "output_type": "execute_result"
    }
   ],
   "source": [
    "datacheck = pd.read_csv('TX_dataSubMonthYear.csv')\n",
    "datacheck.shape"
   ]
  },
  {
   "cell_type": "markdown",
   "metadata": {},
   "source": [
    "#### The december tied data\n",
    "In this section we compare the all the months we have in 2020 to the most recent \"normal month\" which is December."
   ]
  },
  {
   "cell_type": "code",
   "execution_count": 61,
   "metadata": {},
   "outputs": [],
   "source": [
    "compare = dataSubYearMonth[['yearMonth', 'Crash_ID', 'Crash_Fatal_Fl']][dataSubYearMonth.yearMonth >= '2019-12']\n",
    "\n",
    "compare['crashPctChangeCompareDec'] = compare.Crash_ID / compare.Crash_ID.iloc[0] - 1\n",
    "compare['fatalPctChangeCompareDec'] = compare.Crash_Fatal_Fl / compare.Crash_Fatal_Fl.iloc[0] - 1\n",
    "\n",
    "compare['State']='Texas'\n",
    "compare['Country']='United States'"
   ]
  },
  {
   "cell_type": "code",
   "execution_count": 62,
   "metadata": {},
   "outputs": [
    {
     "data": {
      "text/html": [
       "<div>\n",
       "<style scoped>\n",
       "    .dataframe tbody tr th:only-of-type {\n",
       "        vertical-align: middle;\n",
       "    }\n",
       "\n",
       "    .dataframe tbody tr th {\n",
       "        vertical-align: top;\n",
       "    }\n",
       "\n",
       "    .dataframe thead th {\n",
       "        text-align: right;\n",
       "    }\n",
       "</style>\n",
       "<table border=\"1\" class=\"dataframe\">\n",
       "  <thead>\n",
       "    <tr style=\"text-align: right;\">\n",
       "      <th></th>\n",
       "      <th>yearMonth</th>\n",
       "      <th>Crash_ID</th>\n",
       "      <th>Crash_Fatal_Fl</th>\n",
       "      <th>crashPctChangeCompareDec</th>\n",
       "      <th>fatalPctChangeCompareDec</th>\n",
       "      <th>State</th>\n",
       "      <th>Country</th>\n",
       "    </tr>\n",
       "  </thead>\n",
       "  <tbody>\n",
       "    <tr>\n",
       "      <td>11</td>\n",
       "      <td>2019-12</td>\n",
       "      <td>55701</td>\n",
       "      <td>314</td>\n",
       "      <td>0.000000</td>\n",
       "      <td>0.000000</td>\n",
       "      <td>Texas</td>\n",
       "      <td>United States</td>\n",
       "    </tr>\n",
       "    <tr>\n",
       "      <td>12</td>\n",
       "      <td>2020-01</td>\n",
       "      <td>52261</td>\n",
       "      <td>283</td>\n",
       "      <td>-0.061758</td>\n",
       "      <td>-0.098726</td>\n",
       "      <td>Texas</td>\n",
       "      <td>United States</td>\n",
       "    </tr>\n",
       "    <tr>\n",
       "      <td>13</td>\n",
       "      <td>2020-02</td>\n",
       "      <td>51951</td>\n",
       "      <td>284</td>\n",
       "      <td>-0.067324</td>\n",
       "      <td>-0.095541</td>\n",
       "      <td>Texas</td>\n",
       "      <td>United States</td>\n",
       "    </tr>\n",
       "    <tr>\n",
       "      <td>14</td>\n",
       "      <td>2020-03</td>\n",
       "      <td>43765</td>\n",
       "      <td>240</td>\n",
       "      <td>-0.214287</td>\n",
       "      <td>-0.235669</td>\n",
       "      <td>Texas</td>\n",
       "      <td>United States</td>\n",
       "    </tr>\n",
       "    <tr>\n",
       "      <td>15</td>\n",
       "      <td>2020-04</td>\n",
       "      <td>28227</td>\n",
       "      <td>217</td>\n",
       "      <td>-0.493241</td>\n",
       "      <td>-0.308917</td>\n",
       "      <td>Texas</td>\n",
       "      <td>United States</td>\n",
       "    </tr>\n",
       "    <tr>\n",
       "      <td>16</td>\n",
       "      <td>2020-05</td>\n",
       "      <td>21527</td>\n",
       "      <td>115</td>\n",
       "      <td>-0.613526</td>\n",
       "      <td>-0.633758</td>\n",
       "      <td>Texas</td>\n",
       "      <td>United States</td>\n",
       "    </tr>\n",
       "  </tbody>\n",
       "</table>\n",
       "</div>"
      ],
      "text/plain": [
       "   yearMonth  Crash_ID  Crash_Fatal_Fl  crashPctChangeCompareDec  fatalPctChangeCompareDec  State        Country\n",
       "11   2019-12     55701             314                  0.000000                  0.000000  Texas  United States\n",
       "12   2020-01     52261             283                 -0.061758                 -0.098726  Texas  United States\n",
       "13   2020-02     51951             284                 -0.067324                 -0.095541  Texas  United States\n",
       "14   2020-03     43765             240                 -0.214287                 -0.235669  Texas  United States\n",
       "15   2020-04     28227             217                 -0.493241                 -0.308917  Texas  United States\n",
       "16   2020-05     21527             115                 -0.613526                 -0.633758  Texas  United States"
      ]
     },
     "execution_count": 62,
     "metadata": {},
     "output_type": "execute_result"
    }
   ],
   "source": [
    "compare"
   ]
  },
  {
   "cell_type": "code",
   "execution_count": 63,
   "metadata": {},
   "outputs": [],
   "source": [
    "with open(\"TX_PctChangeCompareDec.csv\",'w',newline='') as outputfile:\n",
    "    compare.to_csv(outputfile, header=True, index = False) "
   ]
  },
  {
   "cell_type": "code",
   "execution_count": null,
   "metadata": {},
   "outputs": [],
   "source": []
  }
 ],
 "metadata": {
  "colab": {
   "name": "California_Road_Inventory.ipynb",
   "provenance": []
  },
  "kernelspec": {
   "display_name": "Python 3",
   "language": "python",
   "name": "python3"
  },
  "language_info": {
   "codemirror_mode": {
    "name": "ipython",
    "version": 3
   },
   "file_extension": ".py",
   "mimetype": "text/x-python",
   "name": "python",
   "nbconvert_exporter": "python",
   "pygments_lexer": "ipython3",
   "version": "3.7.3"
  }
 },
 "nbformat": 4,
 "nbformat_minor": 1
}
