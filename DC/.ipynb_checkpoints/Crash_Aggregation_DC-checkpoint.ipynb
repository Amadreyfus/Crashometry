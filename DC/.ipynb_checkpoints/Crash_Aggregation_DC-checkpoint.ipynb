{
 "cells": [
  {
   "cell_type": "code",
   "execution_count": 1,
   "metadata": {
    "colab": {},
    "colab_type": "code",
    "id": "VNeIpf2Qa1ca"
   },
   "outputs": [],
   "source": [
    "import pandas as pd\n",
    "import numpy as np\n",
    "pd.set_option('display.max_rows', 500)\n",
    "pd.set_option('display.max_columns', 500)\n",
    "pd.set_option('display.width', 1000)\n",
    "import datetime as dt\n",
    "import warnings\n",
    "warnings.filterwarnings(\"ignore\")"
   ]
  },
  {
   "cell_type": "markdown",
   "metadata": {},
   "source": [
    "#### 2019 + 2020"
   ]
  },
  {
   "cell_type": "code",
   "execution_count": 2,
   "metadata": {},
   "outputs": [],
   "source": [
    "data = pd.read_csv(\"Crashes_in_DC.csv\")\n",
    "data['FROMDATE'] = pd.to_datetime(data['FROMDATE'])\n",
    "data = data[data.FROMDATE >= '2019-01-01']"
   ]
  },
  {
   "cell_type": "code",
   "execution_count": 3,
   "metadata": {},
   "outputs": [
    {
     "data": {
      "text/plain": [
       "(33541, 58)"
      ]
     },
     "execution_count": 3,
     "metadata": {},
     "output_type": "execute_result"
    }
   ],
   "source": [
    "data.head()"
   ]
  },
  {
   "cell_type": "code",
   "execution_count": 4,
   "metadata": {},
   "outputs": [],
   "source": [
    "data['Death_Cnt'] = data['FATAL_BICYCLIST'] + data['FATAL_DRIVER'] + data['FATAL_PEDESTRIAN'] + data['FATALPASSENGER']\n",
    "#data['Tot_Injry_Cnt'] = data['MAJORINJURIES_BICYCLIST']+data['MINORINJURIES_BICYCLIST']\\\n",
    "#                        +data['MAJORINJURIES_DRIVER']+data['MINORINJURIES_DRIVER']\\\n",
    "#                        +data['MAJORINJURIES_PEDESTRIAN']+data['MINORINJURIES_PEDESTRIAN']\\\n",
    "#                        +data['MAJORINJURIESPASSENGER']+data['MINORINJURIESPASSENGER']\n",
    "#data['Unkn_Injry_Cnt'] = data['UNKNOWNINJURIES_BICYCLIST']+data['UNKNOWNINJURIES_DRIVER']\\\n",
    "#                        +data['UNKNOWNINJURIES_PEDESTRIAN']+data['UNKNOWNINJURIESPASSENGER']         "
   ]
  },
  {
   "cell_type": "code",
   "execution_count": 5,
   "metadata": {},
   "outputs": [],
   "source": [
    "data['Crash_Fatal_Fl'] = data['Death_Cnt'].apply(lambda x: 1 if x > 0 else 0)\n",
    "dataSub = data[['EVENTID', 'Crash_Fatal_Fl','FROMDATE', 'Death_Cnt']]\n",
    "dataSub['FROMDATE'] = pd.to_datetime(dataSub['FROMDATE'])"
   ]
  },
  {
   "cell_type": "code",
   "execution_count": 6,
   "metadata": {},
   "outputs": [
    {
     "data": {
      "text/html": [
       "<div>\n",
       "<style scoped>\n",
       "    .dataframe tbody tr th:only-of-type {\n",
       "        vertical-align: middle;\n",
       "    }\n",
       "\n",
       "    .dataframe tbody tr th {\n",
       "        vertical-align: top;\n",
       "    }\n",
       "\n",
       "    .dataframe thead th {\n",
       "        text-align: right;\n",
       "    }\n",
       "</style>\n",
       "<table border=\"1\" class=\"dataframe\">\n",
       "  <thead>\n",
       "    <tr style=\"text-align: right;\">\n",
       "      <th></th>\n",
       "      <th>EVENTID</th>\n",
       "      <th>Crash_Fatal_Fl</th>\n",
       "      <th>FROMDATE</th>\n",
       "      <th>Death_Cnt</th>\n",
       "    </tr>\n",
       "  </thead>\n",
       "  <tbody>\n",
       "    <tr>\n",
       "      <th>0</th>\n",
       "      <td>{5EC563A8-6958-48E1-B00C-D22A91003D99}</td>\n",
       "      <td>0</td>\n",
       "      <td>2020-05-02 04:00:00</td>\n",
       "      <td>0</td>\n",
       "    </tr>\n",
       "    <tr>\n",
       "      <th>1</th>\n",
       "      <td>{A3020928-3D6F-454C-A184-BF9966F641B7}</td>\n",
       "      <td>0</td>\n",
       "      <td>2020-05-03 04:00:00</td>\n",
       "      <td>0</td>\n",
       "    </tr>\n",
       "    <tr>\n",
       "      <th>2</th>\n",
       "      <td>{1552A892-2A1B-4E0B-A214-70EA69E0F2DA}</td>\n",
       "      <td>0</td>\n",
       "      <td>2020-05-03 04:00:00</td>\n",
       "      <td>0</td>\n",
       "    </tr>\n",
       "    <tr>\n",
       "      <th>3</th>\n",
       "      <td>{2A63A945-2E57-4D36-904F-C3B32D83A905}</td>\n",
       "      <td>0</td>\n",
       "      <td>2020-05-04 04:00:00</td>\n",
       "      <td>0</td>\n",
       "    </tr>\n",
       "    <tr>\n",
       "      <th>4</th>\n",
       "      <td>{E1706550-52E9-4528-BCD9-D3E4C431FC37}</td>\n",
       "      <td>0</td>\n",
       "      <td>2020-05-04 04:00:00</td>\n",
       "      <td>0</td>\n",
       "    </tr>\n",
       "  </tbody>\n",
       "</table>\n",
       "</div>"
      ],
      "text/plain": [
       "                                  EVENTID  Crash_Fatal_Fl            FROMDATE  Death_Cnt\n",
       "0  {5EC563A8-6958-48E1-B00C-D22A91003D99}               0 2020-05-02 04:00:00          0\n",
       "1  {A3020928-3D6F-454C-A184-BF9966F641B7}               0 2020-05-03 04:00:00          0\n",
       "2  {1552A892-2A1B-4E0B-A214-70EA69E0F2DA}               0 2020-05-03 04:00:00          0\n",
       "3  {2A63A945-2E57-4D36-904F-C3B32D83A905}               0 2020-05-04 04:00:00          0\n",
       "4  {E1706550-52E9-4528-BCD9-D3E4C431FC37}               0 2020-05-04 04:00:00          0"
      ]
     },
     "execution_count": 6,
     "metadata": {},
     "output_type": "execute_result"
    }
   ],
   "source": [
    "dataSub.head()"
   ]
  },
  {
   "cell_type": "code",
   "execution_count": 7,
   "metadata": {},
   "outputs": [],
   "source": [
    "dataSubAgg = dataSub.copy()"
   ]
  },
  {
   "cell_type": "code",
   "execution_count": 8,
   "metadata": {
    "colab": {},
    "colab_type": "code",
    "id": "VBjroLZ5a1cg"
   },
   "outputs": [],
   "source": [
    "dataSubAgg['yearMonth'] = dataSubAgg['FROMDATE'].dt.strftime('%Y-%m')\n",
    "dataSubAgg['Year'] = dataSubAgg['FROMDATE'].dt.strftime('%Y')\n",
    "dataSubAgg['Month'] = dataSubAgg['FROMDATE'].dt.strftime('%m')\n",
    "dataSubAgg = dataSubAgg.drop(['FROMDATE'], axis = 1)"
   ]
  },
  {
   "cell_type": "code",
   "execution_count": 9,
   "metadata": {
    "colab": {},
    "colab_type": "code",
    "id": "H0Takya8X-Zb"
   },
   "outputs": [],
   "source": [
    "dataSubAgg.rename(columns={\"EVENTID\": \"Crash_ID\"}, inplace = True)"
   ]
  },
  {
   "cell_type": "code",
   "execution_count": 10,
   "metadata": {},
   "outputs": [
    {
     "data": {
      "text/html": [
       "<div>\n",
       "<style scoped>\n",
       "    .dataframe tbody tr th:only-of-type {\n",
       "        vertical-align: middle;\n",
       "    }\n",
       "\n",
       "    .dataframe tbody tr th {\n",
       "        vertical-align: top;\n",
       "    }\n",
       "\n",
       "    .dataframe thead th {\n",
       "        text-align: right;\n",
       "    }\n",
       "</style>\n",
       "<table border=\"1\" class=\"dataframe\">\n",
       "  <thead>\n",
       "    <tr style=\"text-align: right;\">\n",
       "      <th></th>\n",
       "      <th>Crash_ID</th>\n",
       "      <th>Crash_Fatal_Fl</th>\n",
       "      <th>Death_Cnt</th>\n",
       "      <th>yearMonth</th>\n",
       "      <th>Year</th>\n",
       "      <th>Month</th>\n",
       "    </tr>\n",
       "  </thead>\n",
       "  <tbody>\n",
       "    <tr>\n",
       "      <th>0</th>\n",
       "      <td>{5EC563A8-6958-48E1-B00C-D22A91003D99}</td>\n",
       "      <td>0</td>\n",
       "      <td>0</td>\n",
       "      <td>2020-05</td>\n",
       "      <td>2020</td>\n",
       "      <td>05</td>\n",
       "    </tr>\n",
       "    <tr>\n",
       "      <th>1</th>\n",
       "      <td>{A3020928-3D6F-454C-A184-BF9966F641B7}</td>\n",
       "      <td>0</td>\n",
       "      <td>0</td>\n",
       "      <td>2020-05</td>\n",
       "      <td>2020</td>\n",
       "      <td>05</td>\n",
       "    </tr>\n",
       "    <tr>\n",
       "      <th>2</th>\n",
       "      <td>{1552A892-2A1B-4E0B-A214-70EA69E0F2DA}</td>\n",
       "      <td>0</td>\n",
       "      <td>0</td>\n",
       "      <td>2020-05</td>\n",
       "      <td>2020</td>\n",
       "      <td>05</td>\n",
       "    </tr>\n",
       "    <tr>\n",
       "      <th>3</th>\n",
       "      <td>{2A63A945-2E57-4D36-904F-C3B32D83A905}</td>\n",
       "      <td>0</td>\n",
       "      <td>0</td>\n",
       "      <td>2020-05</td>\n",
       "      <td>2020</td>\n",
       "      <td>05</td>\n",
       "    </tr>\n",
       "    <tr>\n",
       "      <th>4</th>\n",
       "      <td>{E1706550-52E9-4528-BCD9-D3E4C431FC37}</td>\n",
       "      <td>0</td>\n",
       "      <td>0</td>\n",
       "      <td>2020-05</td>\n",
       "      <td>2020</td>\n",
       "      <td>05</td>\n",
       "    </tr>\n",
       "  </tbody>\n",
       "</table>\n",
       "</div>"
      ],
      "text/plain": [
       "                                 Crash_ID  Crash_Fatal_Fl  Death_Cnt yearMonth  Year Month\n",
       "0  {5EC563A8-6958-48E1-B00C-D22A91003D99}               0          0   2020-05  2020    05\n",
       "1  {A3020928-3D6F-454C-A184-BF9966F641B7}               0          0   2020-05  2020    05\n",
       "2  {1552A892-2A1B-4E0B-A214-70EA69E0F2DA}               0          0   2020-05  2020    05\n",
       "3  {2A63A945-2E57-4D36-904F-C3B32D83A905}               0          0   2020-05  2020    05\n",
       "4  {E1706550-52E9-4528-BCD9-D3E4C431FC37}               0          0   2020-05  2020    05"
      ]
     },
     "execution_count": 10,
     "metadata": {},
     "output_type": "execute_result"
    }
   ],
   "source": [
    "dataSubAgg.head()"
   ]
  },
  {
   "cell_type": "markdown",
   "metadata": {},
   "source": [
    "## YearMonth"
   ]
  },
  {
   "cell_type": "code",
   "execution_count": 11,
   "metadata": {
    "colab": {},
    "colab_type": "code",
    "id": "VEcdmB01X-Ze"
   },
   "outputs": [],
   "source": [
    "dataSubYearMonth = dataSubAgg.groupby(['Year','Month']).agg({'Crash_ID': 'count',\n",
    "                                                                   'Crash_Fatal_Fl': 'sum',\n",
    "                                                                   'Death_Cnt': 'sum',\n",
    "                                                                   'yearMonth': 'max'}).reset_index()"
   ]
  },
  {
   "cell_type": "code",
   "execution_count": 12,
   "metadata": {},
   "outputs": [],
   "source": [
    "dataSubYearMonth['crashPctChange'] = dataSubYearMonth.Crash_ID.pct_change()\n",
    "dataSubYearMonth['deathCntPctChange'] = dataSubYearMonth.Death_Cnt.pct_change()\n",
    "dataSubYearMonth['fatalPctChange'] = dataSubYearMonth.Crash_Fatal_Fl.pct_change()\n",
    "dataSubYearMonth['State']='District of Columbia'\n",
    "dataSubYearMonth['Country']='United States'"
   ]
  },
  {
   "cell_type": "code",
   "execution_count": 13,
   "metadata": {},
   "outputs": [],
   "source": [
    "dataSubYearMonth['deathRate']=dataSubYearMonth['Death_Cnt']/dataSubYearMonth['Crash_ID']\n",
    "dataSubYearMonth['fatRate']=dataSubYearMonth['Crash_Fatal_Fl']/dataSubYearMonth['Crash_ID']"
   ]
  },
  {
   "cell_type": "code",
   "execution_count": 14,
   "metadata": {},
   "outputs": [],
   "source": [
    "dataSubYearMonth['deathRatePctChange'] = dataSubYearMonth.deathRate.pct_change()\n",
    "dataSubYearMonth['fatRatePctChange'] = dataSubYearMonth.fatRate.pct_change()"
   ]
  },
  {
   "cell_type": "code",
   "execution_count": 15,
   "metadata": {},
   "outputs": [],
   "source": [
    "with open(\"DC_dataSubYearMonth.csv\",'w') as outputfile:\n",
    "    dataSubYearMonth.to_csv(outputfile, header=True, index = False) "
   ]
  },
  {
   "cell_type": "code",
   "execution_count": 16,
   "metadata": {},
   "outputs": [],
   "source": [
    "datacheck = pd.read_csv('DC_dataSubYearMonth.csv')"
   ]
  },
  {
   "cell_type": "code",
   "execution_count": 17,
   "metadata": {},
   "outputs": [
    {
     "data": {
      "text/plain": [
       "(17, 15)"
      ]
     },
     "execution_count": 17,
     "metadata": {},
     "output_type": "execute_result"
    }
   ],
   "source": [
    "datacheck.shape"
   ]
  },
  {
   "cell_type": "markdown",
   "metadata": {},
   "source": [
    "## MonthYear"
   ]
  },
  {
   "cell_type": "code",
   "execution_count": 18,
   "metadata": {},
   "outputs": [],
   "source": [
    "dataSubMonthYear = dataSubAgg.groupby(['Month','Year']).agg({'Crash_ID': 'count',\n",
    "                                                                   'Crash_Fatal_Fl': 'sum',\n",
    "                                                                   'Death_Cnt': 'sum',\n",
    "                                                                   'yearMonth': 'max'}).reset_index()"
   ]
  },
  {
   "cell_type": "code",
   "execution_count": 19,
   "metadata": {},
   "outputs": [],
   "source": [
    "dataSubMonthYear['crashPctChange'] = dataSubMonthYear.groupby('Month')['Crash_ID'].apply(lambda x: x.div(x.iloc[0]).subtract(1))\n",
    "dataSubMonthYear['deathCntPctChange'] = dataSubMonthYear.groupby('Month')['Death_Cnt'].apply(lambda x: x.div(x.iloc[0]).subtract(1))\n",
    "dataSubMonthYear['fatalPctChange'] = dataSubMonthYear.groupby('Month')['Crash_Fatal_Fl'].apply(lambda x: x.div(x.iloc[0]).subtract(1))\n",
    "dataSubMonthYear['State']='District of Columbia'\n",
    "dataSubMonthYear['Country']='United States'"
   ]
  },
  {
   "cell_type": "code",
   "execution_count": 20,
   "metadata": {},
   "outputs": [],
   "source": [
    "dataSubMonthYear['deathRate']=dataSubMonthYear['Death_Cnt']/dataSubMonthYear['Crash_ID']\n",
    "dataSubMonthYear['fatRate']=dataSubMonthYear['Crash_Fatal_Fl']/dataSubMonthYear['Crash_ID']"
   ]
  },
  {
   "cell_type": "code",
   "execution_count": 21,
   "metadata": {},
   "outputs": [],
   "source": [
    "dataSubMonthYear['deathRatePctChange'] = dataSubMonthYear.groupby('Month')['deathRate'].apply(lambda x: x.div(x.iloc[0]).subtract(1))\n",
    "dataSubMonthYear['fatRatePctChange'] = dataSubMonthYear.groupby('Month')['fatRate'].apply(lambda x: x.div(x.iloc[0]).subtract(1))"
   ]
  },
  {
   "cell_type": "code",
   "execution_count": 22,
   "metadata": {},
   "outputs": [],
   "source": [
    "with open(\"DC_dataSubMonthYear.csv\",'w') as outputfile:\n",
    "    dataSubMonthYear.to_csv(outputfile, header=True, index = False) "
   ]
  },
  {
   "cell_type": "code",
   "execution_count": 23,
   "metadata": {},
   "outputs": [
    {
     "data": {
      "text/plain": [
       "(17, 15)"
      ]
     },
     "execution_count": 23,
     "metadata": {},
     "output_type": "execute_result"
    }
   ],
   "source": [
    "datacheck = pd.read_csv('DC_dataSubMonthYear.csv')\n",
    "datacheck.shape"
   ]
  },
  {
   "cell_type": "markdown",
   "metadata": {},
   "source": [
    "#### The december tied data\n",
    "In this section we compare the all the months we have in 2020 to the most recent \"normal month\" which is December."
   ]
  },
  {
   "cell_type": "code",
   "execution_count": 24,
   "metadata": {},
   "outputs": [],
   "source": [
    "compare = dataSubYearMonth[['yearMonth', 'Crash_ID', 'Crash_Fatal_Fl']][dataSubYearMonth.yearMonth >= '2019-12']\n",
    "\n",
    "compare['crashPctChangeCompareDec'] = compare.Crash_ID / compare.Crash_ID.iloc[0] - 1\n",
    "compare['fatalPctChangeCompareDec'] = compare.Crash_Fatal_Fl / compare.Crash_Fatal_Fl.iloc[0] - 1\n",
    "\n",
    "compare['State']='District of Columbia'\n",
    "compare['Country']='United States'"
   ]
  },
  {
   "cell_type": "code",
   "execution_count": 25,
   "metadata": {},
   "outputs": [
    {
     "data": {
      "text/html": [
       "<div>\n",
       "<style scoped>\n",
       "    .dataframe tbody tr th:only-of-type {\n",
       "        vertical-align: middle;\n",
       "    }\n",
       "\n",
       "    .dataframe tbody tr th {\n",
       "        vertical-align: top;\n",
       "    }\n",
       "\n",
       "    .dataframe thead th {\n",
       "        text-align: right;\n",
       "    }\n",
       "</style>\n",
       "<table border=\"1\" class=\"dataframe\">\n",
       "  <thead>\n",
       "    <tr style=\"text-align: right;\">\n",
       "      <th></th>\n",
       "      <th>yearMonth</th>\n",
       "      <th>Crash_ID</th>\n",
       "      <th>Crash_Fatal_Fl</th>\n",
       "      <th>crashPctChangeCompareDec</th>\n",
       "      <th>fatalPctChangeCompareDec</th>\n",
       "      <th>State</th>\n",
       "      <th>Country</th>\n",
       "    </tr>\n",
       "  </thead>\n",
       "  <tbody>\n",
       "    <tr>\n",
       "      <th>11</th>\n",
       "      <td>2019-12</td>\n",
       "      <td>2137</td>\n",
       "      <td>2</td>\n",
       "      <td>0.000000</td>\n",
       "      <td>0.0</td>\n",
       "      <td>District of Columbia</td>\n",
       "      <td>United States</td>\n",
       "    </tr>\n",
       "    <tr>\n",
       "      <th>12</th>\n",
       "      <td>2020-01</td>\n",
       "      <td>2074</td>\n",
       "      <td>4</td>\n",
       "      <td>-0.029481</td>\n",
       "      <td>1.0</td>\n",
       "      <td>District of Columbia</td>\n",
       "      <td>United States</td>\n",
       "    </tr>\n",
       "    <tr>\n",
       "      <th>13</th>\n",
       "      <td>2020-02</td>\n",
       "      <td>1904</td>\n",
       "      <td>1</td>\n",
       "      <td>-0.109031</td>\n",
       "      <td>-0.5</td>\n",
       "      <td>District of Columbia</td>\n",
       "      <td>United States</td>\n",
       "    </tr>\n",
       "    <tr>\n",
       "      <th>14</th>\n",
       "      <td>2020-03</td>\n",
       "      <td>1541</td>\n",
       "      <td>2</td>\n",
       "      <td>-0.278896</td>\n",
       "      <td>0.0</td>\n",
       "      <td>District of Columbia</td>\n",
       "      <td>United States</td>\n",
       "    </tr>\n",
       "    <tr>\n",
       "      <th>15</th>\n",
       "      <td>2020-04</td>\n",
       "      <td>882</td>\n",
       "      <td>1</td>\n",
       "      <td>-0.587272</td>\n",
       "      <td>-0.5</td>\n",
       "      <td>District of Columbia</td>\n",
       "      <td>United States</td>\n",
       "    </tr>\n",
       "    <tr>\n",
       "      <th>16</th>\n",
       "      <td>2020-05</td>\n",
       "      <td>350</td>\n",
       "      <td>0</td>\n",
       "      <td>-0.836219</td>\n",
       "      <td>-1.0</td>\n",
       "      <td>District of Columbia</td>\n",
       "      <td>United States</td>\n",
       "    </tr>\n",
       "  </tbody>\n",
       "</table>\n",
       "</div>"
      ],
      "text/plain": [
       "   yearMonth  Crash_ID  Crash_Fatal_Fl  crashPctChangeCompareDec  fatalPctChangeCompareDec                 State        Country\n",
       "11   2019-12      2137               2                  0.000000                       0.0  District of Columbia  United States\n",
       "12   2020-01      2074               4                 -0.029481                       1.0  District of Columbia  United States\n",
       "13   2020-02      1904               1                 -0.109031                      -0.5  District of Columbia  United States\n",
       "14   2020-03      1541               2                 -0.278896                       0.0  District of Columbia  United States\n",
       "15   2020-04       882               1                 -0.587272                      -0.5  District of Columbia  United States\n",
       "16   2020-05       350               0                 -0.836219                      -1.0  District of Columbia  United States"
      ]
     },
     "execution_count": 25,
     "metadata": {},
     "output_type": "execute_result"
    }
   ],
   "source": [
    "compare"
   ]
  },
  {
   "cell_type": "code",
   "execution_count": 26,
   "metadata": {},
   "outputs": [],
   "source": [
    "with open(\"DC_PctChangeCompareDec.csv\",'w') as outputfile:\n",
    "    compare.to_csv(outputfile, header=True, index = False) "
   ]
  },
  {
   "cell_type": "code",
   "execution_count": null,
   "metadata": {},
   "outputs": [],
   "source": []
  }
 ],
 "metadata": {
  "colab": {
   "name": "California_Road_Inventory.ipynb",
   "provenance": []
  },
  "kernelspec": {
   "display_name": "Python 3",
   "language": "python",
   "name": "python3"
  },
  "language_info": {
   "codemirror_mode": {
    "name": "ipython",
    "version": 3
   },
   "file_extension": ".py",
   "mimetype": "text/x-python",
   "name": "python",
   "nbconvert_exporter": "python",
   "pygments_lexer": "ipython3",
   "version": "3.6.8"
  }
 },
 "nbformat": 4,
 "nbformat_minor": 1
}
